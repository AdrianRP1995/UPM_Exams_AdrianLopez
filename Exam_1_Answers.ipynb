{
 "cells": [
  {
   "cell_type": "markdown",
   "metadata": {},
   "source": [
    "PROBLEM 2\n",
    "\n",
    "As can be seen in the left of the line, the permissions for this file are reading and writing for user and group (as it says \"rw-\" in both places), which would be \"osboxes\" in both case, and only reading for \"anyone\"."
   ]
  },
  {
   "cell_type": "code",
   "execution_count": 1,
   "metadata": {},
   "outputs": [
    {
     "name": "stdout",
     "output_type": "stream",
     "text": [
      "-rw-rw-r-- 1 osboxes osboxes 1.2M Sep  5 06:44 Locus_Germplasm_Phenotype_20130122.txt\n"
     ]
    }
   ],
   "source": [
    "ls -lh Locus_Germplasm_Phenotype_20130122.txt"
   ]
  },
  {
   "cell_type": "markdown",
   "metadata": {},
   "source": [
    "PROBLEM 3\n",
    "\n",
    "The first line in this file is the header, so if we retrieve just that first line, we will see the header."
   ]
  },
  {
   "cell_type": "code",
   "execution_count": 2,
   "metadata": {},
   "outputs": [
    {
     "name": "stdout",
     "output_type": "stream",
     "text": [
      "Locus_name)\tGermplasm_name\tphenotype\tpubmed_id\n"
     ]
    }
   ],
   "source": [
    "head -1 Locus_Germplasm_Phenotype_20130122.txt"
   ]
  },
  {
   "cell_type": "markdown",
   "metadata": {},
   "source": [
    "PROBLEM 4"
   ]
  },
  {
   "cell_type": "code",
   "execution_count": 3,
   "metadata": {},
   "outputs": [
    {
     "name": "stdout",
     "output_type": "stream",
     "text": [
      "7216 Locus_Germplasm_Phenotype_20130122.txt\n"
     ]
    }
   ],
   "source": [
    "wc -l Locus_Germplasm_Phenotype_20130122.txt"
   ]
  },
  {
   "cell_type": "markdown",
   "metadata": {},
   "source": [
    "PROBLEM 5\n",
    "\n",
    "We removed just the first line from the file (the header), so that is why the new file \"Data_Only.csv\" has one line less than \"Locus_Germplasm_Phenotype_20130122.txt\"."
   ]
  },
  {
   "cell_type": "code",
   "execution_count": 4,
   "metadata": {},
   "outputs": [
    {
     "name": "stdout",
     "output_type": "stream",
     "text": [
      "7215 Data_Only.csv\n"
     ]
    }
   ],
   "source": [
    "tail -n +2 Locus_Germplasm_Phenotype_20130122.txt > Data_Only.csv\n",
    "wc -l Data_Only.csv"
   ]
  },
  {
   "cell_type": "markdown",
   "metadata": {},
   "source": [
    "PROBLEM 6\n",
    "\n",
    "We search for the word \"root\". We don't add spaces or other symbols, so that every word similar to \"root\" (roots root, root.) is included. We also use the parameter \"-i\" to the \"grep\" command, so the search doesn't differentiate between lower cases and upper cases."
   ]
  },
  {
   "cell_type": "code",
   "execution_count": null,
   "metadata": {},
   "outputs": [],
   "source": [
    "grep -in \"root\" Locus_Germplasm_Phenotype_20130122.txt"
   ]
  },
  {
   "cell_type": "markdown",
   "metadata": {},
   "source": [
    "PROBLEM 7\n",
    "\n",
    "First, we choose only the lines that contain the word \"root\" as in the previous exercise, and send those lines into a file.\n",
    "Then, we use the grep command over that file and look for our codes using the regular expression."
   ]
  },
  {
   "cell_type": "code",
   "execution_count": 22,
   "metadata": {},
   "outputs": [
    {
     "name": "stdout",
     "output_type": "stream",
     "text": [
      "55 Root-associated-Loci.txt\n"
     ]
    }
   ],
   "source": [
    "grep -inE \"root\" Locus_Germplasm_Phenotype_20130122.txt > root.txt\n",
    "grep -inEo \"AT[0-9]G[0-9]{5}\" root.txt > Root-associated-Loci.txt\n",
    "wc -l Root-associated-Loci.txt"
   ]
  },
  {
   "cell_type": "markdown",
   "metadata": {},
   "source": [
    "PROBLEM 8\n",
    "\n",
    "We use the same methodology that in the previous exercise, but changing the regular expression.\n",
    "First, looking at the file structure, we know that this code number always comes after a space (a tab, more specifically), so we take that into account. The length of this number is unpredictable, but we try to exclude smaller numbers that doesn't correlate to this code by setting a minimun of 6 characters long. Checking the resulting search, we see that now every number we obtain is the PubMed ID of a line, so we include the possibity of the ID being longer, up to 10 characters.\n",
    "We see that the number of IDs is different from the previous exercise. That's due to some files not containing a Pubmed ID, as we can see if we read the original file. "
   ]
  },
  {
   "cell_type": "code",
   "execution_count": 12,
   "metadata": {},
   "outputs": [
    {
     "name": "stdout",
     "output_type": "stream",
     "text": [
      "50 Root-associated-Publications.txt\n"
     ]
    }
   ],
   "source": [
    "grep -inE \"root\" Locus_Germplasm_Phenotype_20130122.txt > root.txt\n",
    "grep -inoE \"\\s[0-9]{6}[0-9]?[0-9]?[0-9]?\" root.txt > Root-associated-Publications.txt\n",
    "wc -l Root-associated-Publications.txt"
   ]
  },
  {
   "cell_type": "markdown",
   "metadata": {},
   "source": [
    "PROBLEM 9\n",
    "\n",
    "To test this hypothesis, we use several \"grep\" commands, to do a reverse search fpr every chromosome:"
   ]
  },
  {
   "cell_type": "code",
   "execution_count": 17,
   "metadata": {},
   "outputs": [
    {
     "name": "stdout",
     "output_type": "stream",
     "text": [
      "8 AT1_root.txt\n",
      "93 AT2_root.txt\n",
      "0 AT3_root.txt\n",
      "49 AT4_root.txt\n",
      "12 AT5_root.txt\n"
     ]
    }
   ],
   "source": [
    "grep -inE \"AT1G[0-9]{5}\" Locus_Germplasm_Phenotype_20130122.txt > AT1.txt\n",
    "grep -inoE \"root\" AT1.txt > AT1_root.txt\n",
    "wc -l AT1_root.txt\n",
    "\n",
    "grep -inE \"AT2G[0-9]{5}\" Locus_Germplasm_Phenotype_20130122.txt > AT2.txt\n",
    "grep -inoE \"root\" AT2.txt > AT2_root.txt\n",
    "wc -l AT2_root.txt\n",
    "\n",
    "grep -inE \"AT3G[0-9]{5}\" Locus_Germplasm_Phenotype_20130122.txt > AT3.txt\n",
    "grep -inoE \"root\" AT3.txt > AT3_root.txt\n",
    "wc -l AT3_root.txt\n",
    "\n",
    "grep -inE \"AT4G[0-9]{5}\" Locus_Germplasm_Phenotype_20130122.txt > AT4.txt\n",
    "grep -inoE \"root\" AT4.txt > AT4_root.txt\n",
    "wc -l AT4_root.txt\n",
    "\n",
    "grep -inE \"AT5G[0-9]{5}\" Locus_Germplasm_Phenotype_20130122.txt > AT5.txt\n",
    "grep -inoE \"root\" AT5.txt > AT5_root.txt\n",
    "wc -l AT5_root.txt"
   ]
  },
  {
   "cell_type": "markdown",
   "metadata": {},
   "source": [
    "First, we send all the lines which contain a AGI code of every chromosome to a .txt file. Then, we search for the word \"root\" in every one of those files, and count them by chromosome.\n",
    "From this control, we can infere several conclusions:\n",
    "- There are genes associated with roots in all of the chromosomes, except for the third chromosome.\n",
    "- If we compare this to the first search, in which suposedly we obtained all of the AGI codes from the file, the numbers don't match. Also, that search only found lines containing the word \"root\" in the first chromosome, so we can conclude that something went wrong with the first seach."
   ]
  },
  {
   "cell_type": "markdown",
   "metadata": {},
   "source": [
    "PROBLEM 10\n",
    "\n",
    "The answer to problem 9 tells us that the search from problem 7, in which we obtained 55 AGI codes, had issues and is uncomplete. Providing that the code is well written, we can assume than there is some problem in the file. Digging a little into other options of searching, we see that there are more problems:"
   ]
  },
  {
   "cell_type": "code",
   "execution_count": 16,
   "metadata": {},
   "outputs": [
    {
     "name": "stdout",
     "output_type": "stream",
     "text": [
      "56 rootcontrol1.txt\n",
      "1501 rootcontrol2.txt\n",
      "95 rootcontrol3.txt\n",
      "813 rootcontrol4.txt\n"
     ]
    }
   ],
   "source": [
    "grep -iEn \"root\" Locus_Germplasm_Phenotype_20130122.txt > rootcontrol1.txt\n",
    "wc -l rootcontrol1.txt\n",
    "\n",
    "grep -ioEn \"root\" Locus_Germplasm_Phenotype_20130122.txt > rootcontrol2.txt\n",
    "wc -l rootcontrol2.txt\n",
    "\n",
    "grep -iEn \"\\sroot\\s\" Locus_Germplasm_Phenotype_20130122.txt > rootcontrol3.txt\n",
    "wc -l rootcontrol3.txt\n",
    "\n",
    "grep -iEon \"\\sroot\\s\" Locus_Germplasm_Phenotype_20130122.txt > rootcontrol4.txt\n",
    "wc -l rootcontrol4.txt"
   ]
  },
  {
   "cell_type": "markdown",
   "metadata": {},
   "source": [
    "In theory, control 1 and 2, and 3 and 4 respectively should give the same results, as we only change one parameter (\"-o\") of the \"grep\" command, which affects how the data is presented (the entire line in the former, only the searched word in the latter), not the amount of data recovered. It doesn't.\n",
    "Also, the general expression \"\\sroot\\s\" is more restrictive than just \"root\", but it gives more lines.\n",
    "The conclussion is that there is some issue when using the \"grep\" command, that causes the search to stop in a certain point when we don't use the \"-o\" parameter. The problem is that if we use this parameter, we can't get the IDs or codes we need, since they are excluded.\n",
    "\n",
    "This, together with the issues in the previous exercise, leads us to think that there is some problem in the file, maybe a format error in some parts of the text, which prevent us to get the information we need using our current knowledge.\n",
    "\n",
    "The conclussion of all of this is that controls are vital when we try to manipulate data, to prevent errors like this one."
   ]
  }
 ],
 "metadata": {
  "kernelspec": {
   "display_name": "Bash",
   "language": "bash",
   "name": "bash"
  },
  "language_info": {
   "codemirror_mode": "shell",
   "file_extension": ".sh",
   "mimetype": "text/x-sh",
   "name": "bash"
  }
 },
 "nbformat": 4,
 "nbformat_minor": 2
}
